{
 "cells": [
  {
   "cell_type": "code",
   "execution_count": 16,
   "metadata": {},
   "outputs": [],
   "source": [
    "import dataloader\n",
    "from collections import Counter\n",
    "import datasets\n",
    "from dataloader.base import DatasetConfig\n",
    "from dataloader.mdace.constants import MDACE_INPATIENT_PATH as mdace_inpatient\n",
    "from segmenters.base import factory"
   ]
  },
  {
   "cell_type": "code",
   "execution_count": 3,
   "metadata": {},
   "outputs": [],
   "source": [
    "SEGMENTER = factory(\"document\", spacy_model=\"en_core_web_lg\")\n",
    "mdace_config = {\n",
    "        \"identifier\": \"mdace-icd10cm-3.3\",\n",
    "        \"name_or_path\": mdace_inpatient,\n",
    "        \"subsets\": [\"icd10cm-3.3\"],\n",
    "        \"options\": {\"segmenter\": SEGMENTER},\n",
    "    }"
   ]
  },
  {
   "cell_type": "code",
   "execution_count": 4,
   "metadata": {},
   "outputs": [
    {
     "data": {
      "application/vnd.jupyter.widget-view+json": {
       "model_id": "bc5107f0cafc445d9a2b0742423d5195",
       "version_major": 2,
       "version_minor": 0
      },
      "text/plain": [
       "Adapting dataset using MdaceAdapter:   0%|          | 0/331 [00:00<?, ? examples/s]"
      ]
     },
     "metadata": {},
     "output_type": "display_data"
    },
    {
     "data": {
      "application/vnd.jupyter.widget-view+json": {
       "model_id": "a32d055547454c51a46e4b69d168022f",
       "version_major": 2,
       "version_minor": 0
      },
      "text/plain": [
       "Adapting dataset using MdaceAdapter:   0%|          | 0/110 [00:00<?, ? examples/s]"
      ]
     },
     "metadata": {},
     "output_type": "display_data"
    },
    {
     "data": {
      "application/vnd.jupyter.widget-view+json": {
       "model_id": "c392dba6eac941669f52666daf22a638",
       "version_major": 2,
       "version_minor": 0
      },
      "text/plain": [
       "Adapting dataset using MdaceAdapter:   0%|          | 0/115 [00:00<?, ? examples/s]"
      ]
     },
     "metadata": {},
     "output_type": "display_data"
    }
   ],
   "source": [
    "\n",
    "mdace: datasets.Dataset = dataloader.load_dataset(DatasetConfig(**mdace_config))"
   ]
  },
  {
   "cell_type": "code",
   "execution_count": 44,
   "metadata": {},
   "outputs": [
    {
     "name": "stdout",
     "output_type": "stream",
     "text": [
      "Split: train\n",
      "Note type: Physician, Count: 121, Percentage: 36.56%\n",
      "Note type: Discharge summary, Count: 184, Percentage: 55.59%\n",
      "Note type: Nutrition, Count: 7, Percentage: 2.11%\n",
      "Note type: Nursing, Count: 1, Percentage: 0.30%\n",
      "Note type: General, Count: 8, Percentage: 2.42%\n",
      "Note type: Radiology, Count: 6, Percentage: 1.81%\n",
      "Note type: Rehab Services, Count: 3, Percentage: 0.91%\n",
      "Note type: Case Management, Count: 1, Percentage: 0.30%\n",
      "Split: validation\n",
      "Note type: Discharge summary, Count: 60, Percentage: 54.55%\n",
      "Note type: Physician, Count: 37, Percentage: 33.64%\n",
      "Note type: Radiology, Count: 6, Percentage: 5.45%\n",
      "Note type: Rehab Services, Count: 2, Percentage: 1.82%\n",
      "Note type: General, Count: 4, Percentage: 3.64%\n",
      "Note type: Nutrition, Count: 1, Percentage: 0.91%\n",
      "Split: test\n",
      "Note type: Radiology, Count: 6, Percentage: 5.22%\n",
      "Note type: Physician, Count: 38, Percentage: 33.04%\n",
      "Note type: Discharge summary, Count: 61, Percentage: 53.04%\n",
      "Note type: General, Count: 5, Percentage: 4.35%\n",
      "Note type: Consult, Count: 2, Percentage: 1.74%\n",
      "Note type: Nutrition, Count: 2, Percentage: 1.74%\n",
      "Note type: ECG, Count: 1, Percentage: 0.87%\n"
     ]
    }
   ],
   "source": [
    "# Creating a Counter\n",
    "for split in mdace:\n",
    "    print(f\"Split: {split}\")\n",
    "    ctr = Counter(mdace[split][\"note_type\"])\n",
    "\n",
    "    # Calculate total counts\n",
    "    total = sum(ctr.values())\n",
    "\n",
    "    # Create a dictionary with counts and percentages\n",
    "    ctr_with_percentage = {key: {\"count\": value, \"percentage\": (value / total) * 100} for key, value in ctr.items()}\n",
    "\n",
    "    # Print the results\n",
    "    for note_type, stats in ctr_with_percentage.items():\n",
    "        print(f\"Note type: {note_type}, Count: {stats['count']}, Percentage: {stats['percentage']:.2f}%\")"
   ]
  },
  {
   "cell_type": "code",
   "execution_count": 28,
   "metadata": {},
   "outputs": [
    {
     "name": "stdout",
     "output_type": "stream",
     "text": [
      "Train targets: 682\n",
      "Validation targets: 294\n",
      "Test targets: 308\n",
      "Train code lengths: Counter({5: 283, 6: 217, 7: 153, 3: 29})\n",
      "Validation code lengths: Counter({5: 114, 6: 97, 7: 69, 3: 14})\n",
      "Test code lengths: Counter({5: 123, 6: 106, 7: 69, 3: 10})\n"
     ]
    }
   ],
   "source": [
    "index2code = mdace[\"train\"][0][\"index2code\"]\n",
    "train_targets = set(code for row in mdace[\"train\"] for codes in row[\"targets\"] for code in codes)\n",
    "train_codes = [index2code[str(i)] for i in train_targets]\n",
    "train_code_lengths = [len(code) for code in train_codes]\n",
    "train_ctr = Counter(train_code_lengths)\n",
    "val_targets = set(code for row in mdace[\"validation\"] for codes in row[\"targets\"] for code in codes)\n",
    "val_codes = [index2code[str(i)] for i in val_targets]\n",
    "val_code_lengths = [len(code) for code in val_codes]\n",
    "val_ctr = Counter(val_code_lengths)\n",
    "test_targets = set(code for row in mdace[\"test\"] for codes in row[\"targets\"] for code in codes)\n",
    "test_codes = [index2code[str(i)] for i in test_targets]\n",
    "test_code_lengths = [len(code) for code in test_codes]\n",
    "test_ctr = Counter(test_code_lengths)\n",
    "\n",
    "print(f\"Train targets: {len(train_targets)}\")\n",
    "print(f\"Validation targets: {len(val_targets)}\")\n",
    "print(f\"Test targets: {len(test_targets)}\")\n",
    "\n",
    "print(f\"Train code lengths: {train_ctr}\")\n",
    "print(f\"Validation code lengths: {val_ctr}\")\n",
    "print(f\"Test code lengths: {test_ctr}\")\n"
   ]
  },
  {
   "cell_type": "code",
   "execution_count": 59,
   "metadata": {},
   "outputs": [
    {
     "data": {
      "text/plain": [
       "900"
      ]
     },
     "execution_count": 59,
     "metadata": {},
     "output_type": "execute_result"
    }
   ],
   "source": [
    "len(mdace[\"train\"][0][\"classes\"])"
   ]
  },
  {
   "cell_type": "code",
   "execution_count": 3,
   "metadata": {},
   "outputs": [],
   "source": [
    "mdace_30_config: DatasetConfig = DatasetConfig(**dataloader.DATASET_CONFIGS[\"mdace-icd10cm-3.0\"])\n",
    "mdace_31_config: DatasetConfig = DatasetConfig(**dataloader.DATASET_CONFIGS[\"mdace-icd10cm-3.1\"])\n",
    "mdace_32_config: DatasetConfig = DatasetConfig(**dataloader.DATASET_CONFIGS[\"mdace-icd10cm-3.2\"])\n",
    "mdace_33_config: DatasetConfig = DatasetConfig(**dataloader.DATASET_CONFIGS[\"mdace-icd10cm-3.3\"])"
   ]
  },
  {
   "cell_type": "code",
   "execution_count": 5,
   "metadata": {},
   "outputs": [],
   "source": [
    "mdace_30: datasets.Dataset = dataloader.load_dataset(mdace_30_config)\n",
    "mdace_31: datasets.Dataset = dataloader.load_dataset(mdace_31_config)\n",
    "mdace_32: datasets.Dataset = dataloader.load_dataset(mdace_32_config)\n",
    "mdace_33: datasets.Dataset = dataloader.load_dataset(mdace_33_config)\n"
   ]
  },
  {
   "cell_type": "code",
   "execution_count": 9,
   "metadata": {},
   "outputs": [
    {
     "data": {
      "text/plain": [
       "Dataset({\n",
       "    features: ['note_type', 'note_subtype', 'classes', 'aid', 'segments', 'targets', 'fewshots', 'index2code'],\n",
       "    num_rows: 115\n",
       "})"
      ]
     },
     "execution_count": 9,
     "metadata": {},
     "output_type": "execute_result"
    }
   ],
   "source": [
    "dsets = [mdace_30, mdace_31, mdace_32, mdace_33]\n",
    "\n"
   ]
  },
  {
   "cell_type": "code",
   "execution_count": 10,
   "metadata": {},
   "outputs": [
    {
     "data": {
      "text/plain": [
       "{'Consult',\n",
       " 'Discharge summary',\n",
       " 'ECG',\n",
       " 'General',\n",
       " 'Nutrition',\n",
       " 'Physician',\n",
       " 'Radiology'}"
      ]
     },
     "execution_count": 10,
     "metadata": {},
     "output_type": "execute_result"
    }
   ],
   "source": [
    "set(mdace_30[\"note_type\"])"
   ]
  },
  {
   "cell_type": "code",
   "execution_count": 12,
   "metadata": {},
   "outputs": [
    {
     "name": "stdout",
     "output_type": "stream",
     "text": [
      "Note type: Radiology, Count: 6, Percentage: 5.22%\n",
      "Note type: Physician, Count: 38, Percentage: 33.04%\n",
      "Note type: Discharge summary, Count: 61, Percentage: 53.04%\n",
      "Note type: General, Count: 5, Percentage: 4.35%\n",
      "Note type: Consult, Count: 2, Percentage: 1.74%\n",
      "Note type: Nutrition, Count: 2, Percentage: 1.74%\n",
      "Note type: ECG, Count: 1, Percentage: 0.87%\n"
     ]
    }
   ],
   "source": [
    "from collections import Counter\n",
    "\n",
    "# Creating a Counter\n",
    "ctr = Counter(mdace_30[\"note_type\"])\n",
    "\n",
    "# Calculate total counts\n",
    "total = sum(ctr.values())\n",
    "\n",
    "# Create a dictionary with counts and percentages\n",
    "ctr_with_percentage = {key: {\"count\": value, \"percentage\": (value / total) * 100} for key, value in ctr.items()}\n",
    "\n",
    "# Print the results\n",
    "for note_type, stats in ctr_with_percentage.items():\n",
    "    print(f\"Note type: {note_type}, Count: {stats['count']}, Percentage: {stats['percentage']:.2f}%\")\n"
   ]
  },
  {
   "cell_type": "code",
   "execution_count": 6,
   "metadata": {},
   "outputs": [],
   "source": [
    "from transformers import AutoTokenizer\n",
    "tokenizer = AutoTokenizer.from_pretrained(\"meta-llama/Llama-3.2-3B-Instruct\")"
   ]
  },
  {
   "cell_type": "code",
   "execution_count": 7,
   "metadata": {},
   "outputs": [
    {
     "data": {
      "text/plain": [
       "DatasetDict({\n",
       "    train: Dataset({\n",
       "        features: ['note_type', 'note_subtype', 'classes', 'aid', 'segments', 'targets', 'fewshots', 'index2code'],\n",
       "        num_rows: 331\n",
       "    })\n",
       "    validation: Dataset({\n",
       "        features: ['note_type', 'note_subtype', 'classes', 'aid', 'segments', 'targets', 'fewshots', 'index2code'],\n",
       "        num_rows: 110\n",
       "    })\n",
       "    test: Dataset({\n",
       "        features: ['note_type', 'note_subtype', 'classes', 'aid', 'segments', 'targets', 'fewshots', 'index2code'],\n",
       "        num_rows: 115\n",
       "    })\n",
       "})"
      ]
     },
     "execution_count": 7,
     "metadata": {},
     "output_type": "execute_result"
    }
   ],
   "source": [
    "mdace"
   ]
  },
  {
   "cell_type": "code",
   "execution_count": 8,
   "metadata": {},
   "outputs": [
    {
     "data": {
      "text/plain": [
       "[\"[**Hospital Unit Name 10**] Resident Admission Note\\n   .\\n   Reason for MICU Admission:  Pancreatitis and hypotension.\\n   .\\n   Primary Care Physician: [**Name Initial (NameIs) 324**].\\n   .\\n   CC:[**CC Contact Info 325**]   .\\n   HPI: Ms. [**Known lastname 326**] is an 88 y.o. F with Alzheimer's dementia, afib, and\\n   failure to thrive, transferred from [**Hospital 327**] Hospital for emergent ERCP\\n   for presumed gallstone pancreatitis.  The patient was at her nursing\\n   home when she was noted to have an episode of vomiting of large amount\\n   of undigested food at 2 AM on [**2187-9-21**].  She then vomited a large amount\\n   of brown liquid that was reportedly guiaic positive.  MD [**First Name (Titles) **] [**Last Name (Titles) 122**] made\\n   aware and referred to ED.  O2 sats were noted to be 85-88% on RA and 2\\n   L NC brought O2 sat to 92%.\\n   .\\n   At [**Hospital 327**] Hospital ED, VS: BP 129/68  P 83  R 18  Temp 100.3  O2 sat\\n   93% on RA.  EKG reported to have sinus rhythm with ST depressions in\\n   V3-V6 consistent with digoxin without comparison.  the patient was\\n   given Flagyl 500 mg IV x 1 and Levaquin 500 mg IV x 1.  U/S reportedly\\n   showed few GB stones, slightly enlarged CBD, pancreas with\\n   inflammation.  Thought to have gallstone pancreatitis and would need\\n   ERCP, so pt was transferred to [**Hospital1 **].\\n   .\\n   In [**Hospital1 1**] ED, T 98.9  BP 99/62  HR 101  RR 19  O2 sat 93% 2L NC\\n   2 L NS given.  Flagyl 500 mg IV x 1, Vancomycin 1 gram IV x 1, and\\n   Ceftriaxone 1 g IV x 1 given.  RUQ U/S, CXR, and CT abdomen with\\n   contrast performed. UA +.  ERCP fellow aware and want to continue IV\\n   fluids and IV antibiotics.  Fellow plans to see pt in AM for possible\\n   ERCP.  Of note, report from ED that pt was transiently hypotensive in\\n   90s but cannot find documentation of this in ED notes.\\n   .\\n   ROS: Unable to obtain.\\n   .\\n   PAST MEDICAL HISTORY:\\n   Dementia\\n   Edema\\n   Atrial Fibrillation\\n   Failure to thrive\\n   Cellulitis\\n   GI bleed\\n   .\\n   MEDICATIONS:\\n   Milk of Magnesia prn\\n   Acetaminophen prn\\n   Compazine 25 mg PR q 12 hour prn\\n   ASA 81 mg daily\\n   Digoxin 250 mcg daily\\n   Colace 100 mg daily\\n   .\\n   ALLERGIES: Penicllins\\n   .\\n   SOCIAL HISTORY: Lives in [**Hospital3 59**] facility, [**Hospital 328**] Nursing Home.\\n   .\\n   FAMILY HISTORY: Unable to obtain\\n   .\\n   PHYSICAL EXAM:\\n   VITALS: T: 98.5 BP: 132/76  HR: 86  RR: 22  O2Sat: 92% on 2 L NC\\n   GEN: NAD, only responsive to noxious stimuli (i.e. opening eyes),\\n   sleeping in bed\\n   HEENT: pinpoint pupils, sluggish reaction to light, unable to assess\\n   EOMI, no LAD, unable to assess OP\\n   CHEST: CTAB anteriorly, no w/r/r\\n   CV: irreg irreg, II/VI SEM heard at LUSB, no r/g\\n   ABD: slightly distended, TTP over RUQ, decreased BS\\n   EXT: no c/c/e\\n   NEURO: only responsive to noxious stimuli\\n   SKIN: no rashes noted\\n   .\\n   LABORATORIES: See below.\\n   .\\n   STUDIES:\\n   EKG: NSR at 90 bpm, nl axis, II, V3-V5 with ST depressions.  No\\n   comparison.\\n   .\\n   CXR [**2187-9-21**]: moderate rotation on CXR, no evidence of PTX or focal\\n   consolidation. no pulmonary edema or large effusions.  calcifications\\n   over R heart likely severe annular calcification.  Air filled upper\\n   esophagus, may be dysmotility.\\n   .\\n   LIVER U/S [**2187-9-21**]: Please note this examination was extensively limited\\n   due to patient inability to cooperate during image acquisition. The\\n   liver parenchyma is homogenous with no focal lesions identified. No\\n   intrahepatic ductal dilatation is identified with the CHD measuring\\n   approximately 3 mm. The gallbladder displays a mild amount of layering\\n   biliary [**Doctor Last Name 329**] (combination of sludge/stones) but no evidence of wall\\n   edema or pericholecystic fluid collections. The right kidney measures 9\\n   cm and displays mild caliectasis, but no pelviectasis or\\n   hydronephrosis. Limited evaluation of the pancreatic\\n   body and tail was normal with additional region of the pancreas unable\\n   to be identified due to bowel gas obscuration. Portal vein is patent\\n   with normal hepatopetal flow.\\n   IMPRESSION:\\n   1. Cholelithiasis/biliary sludge. No son[**Name (NI) 330**] findings to suggest\\n   acute cholecystitis.\\n   2. Mild right-sided calyectasis without hydronephrosis.\\n   .\\n   CT ABD/PELVIS [**2187-9-21**]: (wet read)10mm cbd, no intrahepatic ductal\\n   dilatation. stranding around pancreas consistent with known\\n   pancreatitis with no regions of necrosis. RLL infectious bronchiolitis\\n   with complete mucoid impaction of lower lobe bronchi b/l.\\n   .\\n   ASSESSMENT & PLAN: 88 y.o. F with Alzheimer's dementia, afib, and\\n   failure to thrive, transferred from [**Hospital 327**] Hospital for emergent ERCP\\n   for presumed gallstone pancreatitis.\\n   .\\n   # Pancreatitis: Likely gallstone with stones and sludge in\\n   gallbladder.  Elevated lipase on labs and CT abd/pelvis demonstrated\\n   pancreas stranding as well as 10 cm CBD.\\n   - NPO\\n   - IVFs overnight\\n   - trend LFTs, amylase, lipase\\n   - f/u ERCP recs: likely to go to ERCP tomorrow; continue IV fluids and\\n   IV antibiotics\\n   - continue IV antibiotics (zosyn) and narrow accordingly\\n   .\\n   # Hypotension: resolved in ED after IVFs and normotensive in MICU;\\n   elevated lactate\\n   - monitor BPs\\n   - f/u all culture data\\n   - IVF boluses prn\\n   - repeat lactate in AM\\n   .\\n   # Leukocytosis: Likely [**2-24**] UTI and pancreatitis with ? ascending\\n   cholangitis\\n   - continue IV antibiotics as above\\n   - monitor fever curve\\n   - trend WBC\\n   .\\n   # Hypernatremia: Appears volume contracted.\\n   - gentle IVFs overnight\\n   - recheck Na in AM\\n   .\\n   # UTI: UA + in ED; got ceftriaxone in ED\\n   - send urine culture\\n   - continue IV antibiotics (zosyn) and narrow accordingly\\n   .\\n   # Atrial fibrillation: irregularly irregular\\n   - continue digoxin\\n   .\\n   # GI bleed: noted to have guiaic positive emesis. Pt hemodynamically\\n   stable now. Hct 37.6.  Likely UGI Bleed, possibly [**First Name4 (NamePattern1) 331**] [**Last Name (NamePattern1) **], in\\n   setting of vomiting.  Also consider gastritis.\\n   - monitor Hcts q12 hours\\n   .\\n   # Alzheimer's Dementia:\\n   - frequent reorientation\\n   - strict sleep-wake cycle\\n   .\\n   # Access: PIVs\\n   .\\n   # PPx: PPI / heparin SQ / bowel regimen\\n   .\\n   # FEN: IVFs / replete lytes prn / NPO for possible ERCP in AM\\n   .\\n   # Code: FULL\\n   .\\n   # COMM: [**First Name8 (NamePattern2) 332**] [**Known lastname 326**]-[**Doctor Last Name **] cell [**Telephone/Fax (1) 333**]\\n   .\\n   # Dispo: ICU until ERCP\\n   .\\n   .\\n   .\\n   .\\n   [**First Name8 (NamePattern2) 334**] [**Last Name (NamePattern1) 335**], MD, MPH\\n   [**Numeric Identifier 336**]\\n   PGY-2\"]"
      ]
     },
     "execution_count": 8,
     "metadata": {},
     "output_type": "execute_result"
    }
   ],
   "source": [
    "mdace[\"train\"][0][\"segments\"]"
   ]
  },
  {
   "cell_type": "code",
   "execution_count": 9,
   "metadata": {},
   "outputs": [
    {
     "data": {
      "application/vnd.jupyter.widget-view+json": {
       "model_id": "0148d1be15564e09ba96e17cd640b957",
       "version_major": 2,
       "version_minor": 0
      },
      "text/plain": [
       "Map:   0%|          | 0/331 [00:00<?, ? examples/s]"
      ]
     },
     "metadata": {},
     "output_type": "display_data"
    },
    {
     "data": {
      "application/vnd.jupyter.widget-view+json": {
       "model_id": "661d781bc3354b289ae1a98ec21dc741",
       "version_major": 2,
       "version_minor": 0
      },
      "text/plain": [
       "Map:   0%|          | 0/110 [00:00<?, ? examples/s]"
      ]
     },
     "metadata": {},
     "output_type": "display_data"
    },
    {
     "data": {
      "application/vnd.jupyter.widget-view+json": {
       "model_id": "5854e6d57cd94ae296645de3a6eeffe4",
       "version_major": 2,
       "version_minor": 0
      },
      "text/plain": [
       "Map:   0%|          | 0/115 [00:00<?, ? examples/s]"
      ]
     },
     "metadata": {},
     "output_type": "display_data"
    }
   ],
   "source": [
    "def tokenize_function(row: dict):\n",
    "    note = row[\"segments\"][0]\n",
    "    row[\"input_ids\"] = tokenizer.encode(note, add_special_tokens=True, truncation=False)\n",
    "    return row\n",
    "encoded_mdace = mdace.map(tokenize_function)"
   ]
  },
  {
   "cell_type": "code",
   "execution_count": 22,
   "metadata": {},
   "outputs": [
    {
     "name": "stdout",
     "output_type": "stream",
     "text": [
      "Train note lengths: {}\n",
      "Validation note lengths: {}\n",
      "Test note lengths: {}\n"
     ]
    }
   ],
   "source": [
    "from collections import defaultdict\n",
    "combined_note_lengths = defaultdict(list)\n",
    "train_note_lengths = defaultdict(list)\n",
    "for row in encoded_mdace[\"train\"]:\n",
    "    combined_note_lengths[row[\"note_type\"]].append(len(row[\"input_ids\"]))\n",
    "avg_train_note_length = {note_type: sum(lengths) / len(lengths) for note_type, lengths in train_note_lengths.items()}\n",
    "val_note_lengths = defaultdict(list)\n",
    "for row in encoded_mdace[\"validation\"]:\n",
    "    combined_note_lengths[row[\"note_type\"]].append(len(row[\"input_ids\"]))\n",
    "avg_val_note_length = {note_type: sum(lengths) / len(lengths) for note_type, lengths in val_note_lengths.items()}\n",
    "test_note_lengths = defaultdict(list)\n",
    "for row in encoded_mdace[\"test\"]:\n",
    "    combined_note_lengths[row[\"note_type\"]].append(len(row[\"input_ids\"]))\n",
    "avg_test_note_length = {note_type: sum(lengths) / len(lengths) for note_type, lengths in test_note_lengths.items()}\n",
    "\n",
    "print(f\"Train note lengths: {avg_train_note_length}\")\n",
    "print(f\"Validation note lengths: {avg_val_note_length}\")\n",
    "print(f\"Test note lengths: {avg_test_note_length}\")"
   ]
  },
  {
   "cell_type": "code",
   "execution_count": 26,
   "metadata": {},
   "outputs": [
    {
     "name": "stdout",
     "output_type": "stream",
     "text": [
      "Note type: General, Average length: 824.29 ± 3091.00\n",
      "Note type: Discharge summary, Average length: 3803.23 ± 11882.00\n",
      "Note type: Physician, Average length: 2155.57 ± 4455.00\n",
      "Note type: Nursing, Average length: 1085.00 ± 0.00\n",
      "Note type: Radiology, Average length: 623.67 ± 1330.00\n",
      "Note type: Nutrition, Average length: 946.30 ± 1393.00\n",
      "Note type: Rehab Services, Average length: 1075.60 ± 642.00\n",
      "Note type: Case Management, Average length: 457.00 ± 0.00\n",
      "Note type: ECG, Average length: 65.00 ± 0.00\n",
      "Note type: Consult, Average length: 1351.50 ± 521.00\n"
     ]
    }
   ],
   "source": [
    "import numpy as np\n",
    "\n",
    "\n",
    "rows = []\n",
    "for key, lengths in combined_note_lengths.items():\n",
    "    avg_length = np.mean(lengths)\n",
    "    diff = max(lengths) - min(lengths)\n",
    "    # Format as \"average ± difference\"\n",
    "    formatted_length = f\"{avg_length:.2f} ± {diff:.2f}\"\n",
    "    print(f\"Note type: {key}, Average length: {formatted_length}\")\n",
    "    rows.append([key, formatted_length])"
   ]
  },
  {
   "cell_type": "code",
   "execution_count": 27,
   "metadata": {},
   "outputs": [
    {
     "data": {
      "text/plain": [
       "DatasetDict({\n",
       "    train: Dataset({\n",
       "        features: ['note_type', 'note_subtype', 'classes', 'aid', 'segments', 'targets', 'fewshots', 'index2code'],\n",
       "        num_rows: 331\n",
       "    })\n",
       "    validation: Dataset({\n",
       "        features: ['note_type', 'note_subtype', 'classes', 'aid', 'segments', 'targets', 'fewshots', 'index2code'],\n",
       "        num_rows: 110\n",
       "    })\n",
       "    test: Dataset({\n",
       "        features: ['note_type', 'note_subtype', 'classes', 'aid', 'segments', 'targets', 'fewshots', 'index2code'],\n",
       "        num_rows: 115\n",
       "    })\n",
       "})"
      ]
     },
     "execution_count": 27,
     "metadata": {},
     "output_type": "execute_result"
    }
   ],
   "source": [
    "mdace"
   ]
  },
  {
   "cell_type": "code",
   "execution_count": 32,
   "metadata": {},
   "outputs": [],
   "source": [
    "from collections import defaultdict\n",
    "combined_note_lengths = defaultdict(list)\n",
    "train_note_lengths = defaultdict(list)\n",
    "for row in encoded_mdace[\"train\"]:\n",
    "    combined_note_lengths[row[\"note_type\"]].append(len(row[\"targets\"][0]))\n",
    "val_note_lengths = defaultdict(list)\n",
    "for row in encoded_mdace[\"validation\"]:\n",
    "    combined_note_lengths[row[\"note_type\"]].append(len(row[\"targets\"][0]))\n",
    "test_note_lengths = defaultdict(list)\n",
    "for row in encoded_mdace[\"test\"]:\n",
    "    combined_note_lengths[row[\"note_type\"]].append(len(row[\"targets\"][0]))\n"
   ]
  },
  {
   "cell_type": "code",
   "execution_count": 33,
   "metadata": {},
   "outputs": [
    {
     "name": "stdout",
     "output_type": "stream",
     "text": [
      "Note type: General, Average length: 1.41 ± 3.00\n",
      "Note type: Discharge summary, Average length: 9.48 ± 24.00\n",
      "Note type: Physician, Average length: 1.68 ± 6.00\n",
      "Note type: Nursing, Average length: 1.00 ± 0.00\n",
      "Note type: Radiology, Average length: 1.17 ± 2.00\n",
      "Note type: Nutrition, Average length: 1.70 ± 3.00\n",
      "Note type: Rehab Services, Average length: 1.60 ± 2.00\n",
      "Note type: Case Management, Average length: 2.00 ± 0.00\n",
      "Note type: ECG, Average length: 1.00 ± 0.00\n",
      "Note type: Consult, Average length: 2.00 ± 2.00\n"
     ]
    }
   ],
   "source": [
    "import numpy as np\n",
    "\n",
    "\n",
    "rows = []\n",
    "for key, lengths in combined_note_lengths.items():\n",
    "    avg_length = np.mean(lengths)\n",
    "    diff = max(lengths) - min(lengths)\n",
    "    # Format as \"average ± difference\"\n",
    "    formatted_length = f\"{avg_length:.2f} ± {diff:.2f}\"\n",
    "    print(f\"Note type: {key}, Average length: {formatted_length}\")\n",
    "    rows.append([key, formatted_length])"
   ]
  },
  {
   "cell_type": "code",
   "execution_count": 34,
   "metadata": {},
   "outputs": [
    {
     "data": {
      "text/plain": [
       "900"
      ]
     },
     "execution_count": 34,
     "metadata": {},
     "output_type": "execute_result"
    }
   ],
   "source": [
    "len(mdace[\"train\"][0][\"classes\"])"
   ]
  }
 ],
 "metadata": {
  "kernelspec": {
   "display_name": "entityseeker-61_gtUVj-py3.12",
   "language": "python",
   "name": "python3"
  },
  "language_info": {
   "codemirror_mode": {
    "name": "ipython",
    "version": 3
   },
   "file_extension": ".py",
   "mimetype": "text/x-python",
   "name": "python",
   "nbconvert_exporter": "python",
   "pygments_lexer": "ipython3",
   "version": "3.12.2"
  }
 },
 "nbformat": 4,
 "nbformat_minor": 2
}
